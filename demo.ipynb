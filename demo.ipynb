{
 "cells": [
  {
   "cell_type": "code",
   "execution_count": 15,
   "metadata": {},
   "outputs": [
    {
     "name": "stdout",
     "output_type": "stream",
     "text": [
      "Requirement already satisfied: requests in /Users/lucassovre/.pyenv/versions/3.11.5/envs/dgfip_def/lib/python3.11/site-packages (2.31.0)\n",
      "Requirement already satisfied: sseclient-py in /Users/lucassovre/.pyenv/versions/3.11.5/envs/dgfip_def/lib/python3.11/site-packages (1.8.0)\n",
      "Requirement already satisfied: matplotlib in /Users/lucassovre/.pyenv/versions/3.11.5/envs/dgfip_def/lib/python3.11/site-packages (3.8.3)\n",
      "Requirement already satisfied: charset-normalizer<4,>=2 in /Users/lucassovre/.pyenv/versions/3.11.5/envs/dgfip_def/lib/python3.11/site-packages (from requests) (3.3.2)\n",
      "Requirement already satisfied: idna<4,>=2.5 in /Users/lucassovre/.pyenv/versions/3.11.5/envs/dgfip_def/lib/python3.11/site-packages (from requests) (3.6)\n",
      "Requirement already satisfied: urllib3<3,>=1.21.1 in /Users/lucassovre/.pyenv/versions/3.11.5/envs/dgfip_def/lib/python3.11/site-packages (from requests) (2.2.1)\n",
      "Requirement already satisfied: certifi>=2017.4.17 in /Users/lucassovre/.pyenv/versions/3.11.5/envs/dgfip_def/lib/python3.11/site-packages (from requests) (2024.2.2)\n",
      "Requirement already satisfied: contourpy>=1.0.1 in /Users/lucassovre/.pyenv/versions/3.11.5/envs/dgfip_def/lib/python3.11/site-packages (from matplotlib) (1.2.0)\n",
      "Requirement already satisfied: cycler>=0.10 in /Users/lucassovre/.pyenv/versions/3.11.5/envs/dgfip_def/lib/python3.11/site-packages (from matplotlib) (0.12.1)\n",
      "Requirement already satisfied: fonttools>=4.22.0 in /Users/lucassovre/.pyenv/versions/3.11.5/envs/dgfip_def/lib/python3.11/site-packages (from matplotlib) (4.50.0)\n",
      "Requirement already satisfied: kiwisolver>=1.3.1 in /Users/lucassovre/.pyenv/versions/3.11.5/envs/dgfip_def/lib/python3.11/site-packages (from matplotlib) (1.4.5)\n",
      "Requirement already satisfied: numpy<2,>=1.21 in /Users/lucassovre/.pyenv/versions/3.11.5/envs/dgfip_def/lib/python3.11/site-packages (from matplotlib) (1.26.4)\n",
      "Requirement already satisfied: packaging>=20.0 in /Users/lucassovre/.pyenv/versions/3.11.5/envs/dgfip_def/lib/python3.11/site-packages (from matplotlib) (24.0)\n",
      "Requirement already satisfied: pillow>=8 in /Users/lucassovre/.pyenv/versions/3.11.5/envs/dgfip_def/lib/python3.11/site-packages (from matplotlib) (10.2.0)\n",
      "Requirement already satisfied: pyparsing>=2.3.1 in /Users/lucassovre/.pyenv/versions/3.11.5/envs/dgfip_def/lib/python3.11/site-packages (from matplotlib) (3.1.2)\n",
      "Requirement already satisfied: python-dateutil>=2.7 in /Users/lucassovre/.pyenv/versions/3.11.5/envs/dgfip_def/lib/python3.11/site-packages (from matplotlib) (2.9.0.post0)\n",
      "Requirement already satisfied: six>=1.5 in /Users/lucassovre/.pyenv/versions/3.11.5/envs/dgfip_def/lib/python3.11/site-packages (from python-dateutil>=2.7->matplotlib) (1.16.0)\n",
      "Note: you may need to restart the kernel to use updated packages.\n"
     ]
    }
   ],
   "source": [
    "%pip install requests sseclient-py matplotlib"
   ]
  },
  {
   "cell_type": "markdown",
   "metadata": {},
   "source": [
    "## Importation des bibliothèques"
   ]
  },
  {
   "cell_type": "code",
   "execution_count": 1,
   "metadata": {},
   "outputs": [],
   "source": [
    "import requests\n",
    "import sseclient\n",
    "import matplotlib.pyplot as plt\n",
    "\n",
    "base_url = 'http://localhost:8080'"
   ]
  },
  {
   "cell_type": "markdown",
   "metadata": {},
   "source": [
    "## Utilisation de l'API REST pour faire une requête au llm"
   ]
  },
  {
   "cell_type": "code",
   "execution_count": 17,
   "metadata": {},
   "outputs": [
    {
     "name": "stdout",
     "output_type": "stream",
     "text": [
      " I hope you're doing well. Unterscheidung zwischen „Ich“ und „Du“. 1. The German language is a very complex one and it can be difficult to learn for English speakers. The German word for \"you\" is \"Sie\". The German word for “you” is “Sie”. In this lesson we will look at the different ways of saying “you” in German. In this lesson we will look at the different ways of saying “you\n"
     ]
    }
   ],
   "source": [
    "data = {\n",
    "  \"model\": \"llm_llama\",\n",
    "  \"params\": {\n",
    "    \"temperature\": 0.1,\n",
    "    \"max_tokens\": 100,\n",
    "  },\n",
    "  \"prompt\": \"Hello, how are you?\"\n",
    "}\n",
    "\n",
    "response = requests.post(f'{base_url}/ai/prompt', json=data)\n",
    "\n",
    "channel = response.json()['ticket_id']\n",
    "\n",
    "response = requests.get(f'{base_url}/ai/stream?channel={channel}', headers={'Accept': 'text/event-stream'}, stream=True)  # or with_requests(url, headers)\n",
    "client = sseclient.SSEClient(response)\n",
    "for event in client.events():\n",
    "    print(event.data)\n",
    "    break"
   ]
  },
  {
   "cell_type": "markdown",
   "metadata": {},
   "source": [
    "## Utilisation de l'API REST pour faire une requête au modèle d'embbeding"
   ]
  },
  {
   "cell_type": "code",
   "execution_count": 18,
   "metadata": {},
   "outputs": [
    {
     "name": "stdout",
     "output_type": "stream",
     "text": [
      "'[[69.97346496582031], [71.31929016113281]]'\n"
     ]
    }
   ],
   "source": [
    "import json\n",
    "\n",
    "data = {\n",
    "  \"model\": \"embeding_e5\",\n",
    "  \"params\": {},\n",
    "  \"prompt\": json.dumps([\n",
    "        'query: how much protein should a female eat',\n",
    "        \"passage: As a general guideline, the CDC's average requirement of protein for women ages 19 to 70 is 46 grams per day. But, as you can see from this chart, you'll need to increase that if you're expecting or training for a marathon. Check out the chart below to see how much protein you should be eating each day.\",\n",
    "        \"passage: Definition of summit for English Language Learners. : 1  the highest point of a mountain : the top of a mountain. : 2  the highest level. : 3  a meeting or series of meetings between the leaders of two or more governments.\"\n",
    "      ])\n",
    "}\n",
    "\n",
    "response = requests.post(f'{base_url}/ai/prompt', json=data)\n",
    "\n",
    "channel = response.json()['ticket_id']\n",
    "\n",
    "response = requests.get(f'{base_url}/ai/stream?channel={channel}', headers={'Accept': 'text/event-stream'}, stream=True)  # or with_requests(url, headers)\n",
    "client = sseclient.SSEClient(response)\n",
    "for event in client.events():\n",
    "    print(event.data)\n",
    "    break"
   ]
  },
  {
   "cell_type": "markdown",
   "metadata": {},
   "source": [
    "## Utilisation de l'API REST pour faire une requête de kpi"
   ]
  },
  {
   "cell_type": "code",
   "execution_count": 19,
   "metadata": {},
   "outputs": [
    {
     "data": {
      "image/png": "[encoded data removed]",
      "text/plain": [
       "<Figure size 640x480 with 1 Axes>"
      ]
     },
     "metadata": {},
     "output_type": "display_data"
    }
   ],
   "source": [
    "response = requests.get(f'{base_url}/ai/metrics/process_time')  # or with_requests(url, headers)\n",
    "\n",
    "data = response.json()['result']\n",
    "\n",
    "x = [d['_id'] for d in data]\n",
    "y = [d['averageProcessTime'] for d in data]\n",
    "\n",
    "plt.bar(x, y)\n",
    "\n",
    "plt.xlabel('Model')\n",
    "plt.ylabel('Average Process Time')\n",
    "plt.title('Average Process Time by Model')\n",
    "\n",
    "plt.show()\n"
   ]
  }
 ],
 "metadata": {
  "kernelspec": {
   "display_name": "dgfip_def",
   "language": "python",
   "name": "python3"
  },
  "language_info": {
   "codemirror_mode": {
    "name": "ipython",
    "version": 3
   },
   "file_extension": ".py",
   "mimetype": "text/x-python",
   "name": "python",
   "nbconvert_exporter": "python",
   "pygments_lexer": "ipython3",
   "version": "3.11.5"
  }
 },
 "nbformat": 4,
 "nbformat_minor": 2
}
