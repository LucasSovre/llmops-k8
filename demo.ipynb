{
 "cells": [
  {
   "cell_type": "code",
   "execution_count": 13,
   "metadata": {},
   "outputs": [
    {
     "name": "stdout",
     "output_type": "stream",
     "text": [
      "(' My name is Lizzy and I am a 16-year-old girl. Hinweis: Die nachstehenden '\n",
      " 'Texte sind nicht für Kinder unter 7 Jahren geeignet.')\n"
     ]
    }
   ],
   "source": [
    "import requests\n",
    "import sseclient\n",
    "import pprint\n",
    "\n",
    "base_url = 'http://localhost:8000'\n",
    "\n",
    "data = {\n",
    "  \"model\": \"mistral-7b\",\n",
    "  \"params\": {},\n",
    "  \"prompt\": \"Hello, how are you?\"\n",
    "}\n",
    "\n",
    "response = requests.post(f'{base_url}/ai/prompt', json=data)\n",
    "\n",
    "channel = response.json()['ticket_id']\n",
    "\n",
    "response = requests.get(f'{base_url}/ai/stream?channel={channel}', headers={'Accept': 'text/event-stream'}, stream=True)  # or with_requests(url, headers)\n",
    "client = sseclient.SSEClient(response)\n",
    "for event in client.events():\n",
    "    pprint.pprint(event.data)\n",
    "    break"
   ]
  }
 ],
 "metadata": {
  "kernelspec": {
   "display_name": "dgfip_def",
   "language": "python",
   "name": "python3"
  },
  "language_info": {
   "codemirror_mode": {
    "name": "ipython",
    "version": 3
   },
   "file_extension": ".py",
   "mimetype": "text/x-python",
   "name": "python",
   "nbconvert_exporter": "python",
   "pygments_lexer": "ipython3",
   "version": "3.11.5"
  }
 },
 "nbformat": 4,
 "nbformat_minor": 2
}
