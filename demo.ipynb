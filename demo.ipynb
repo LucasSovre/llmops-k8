{
 "cells": [
  {
   "cell_type": "code",
   "execution_count": 2,
   "metadata": {},
   "outputs": [],
   "source": [
    "import requests\n",
    "import sseclient\n",
    "import pprint"
   ]
  },
  {
   "cell_type": "code",
   "execution_count": 3,
   "metadata": {},
   "outputs": [
    {
     "name": "stdout",
     "output_type": "stream",
     "text": [
      "(\" It's been a long time since the last post, I think...I hope everyone is \"\n",
      " 'doing well!')\n"
     ]
    }
   ],
   "source": [
    "base_url = 'http://localhost:8000'\n",
    "\n",
    "data = {\n",
    "  \"model\": \"llm_llama\",\n",
    "  \"params\": {},\n",
    "  \"prompt\": \"Hello, how are you?\"\n",
    "}\n",
    "\n",
    "response = requests.post(f'{base_url}/ai/prompt', json=data)\n",
    "\n",
    "channel = response.json()['ticket_id']\n",
    "\n",
    "response = requests.get(f'{base_url}/ai/stream?channel={channel}', headers={'Accept': 'text/event-stream'}, stream=True)  # or with_requests(url, headers)\n",
    "client = sseclient.SSEClient(response)\n",
    "for event in client.events():\n",
    "    pprint.pprint(event.data)\n",
    "    break"
   ]
  },
  {
   "cell_type": "code",
   "execution_count": 10,
   "metadata": {},
   "outputs": [
    {
     "name": "stdout",
     "output_type": "stream",
     "text": [
      "'[[69.97346496582031], [71.31929016113281]]'\n"
     ]
    }
   ],
   "source": [
    "import json\n",
    "\n",
    "data = {\n",
    "  \"model\": \"embeding_e5\",\n",
    "  \"params\": {},\n",
    "  \"prompt\": json.dumps([\n",
    "        'query: how much protein should a female eat',\n",
    "        \"passage: As a general guideline, the CDC's average requirement of protein for women ages 19 to 70 is 46 grams per day. But, as you can see from this chart, you'll need to increase that if you're expecting or training for a marathon. Check out the chart below to see how much protein you should be eating each day.\",\n",
    "        \"passage: Definition of summit for English Language Learners. : 1  the highest point of a mountain : the top of a mountain. : 2  the highest level. : 3  a meeting or series of meetings between the leaders of two or more governments.\"\n",
    "      ])\n",
    "}\n",
    "\n",
    "response = requests.post(f'{base_url}/ai/prompt', json=data)\n",
    "\n",
    "channel = response.json()['ticket_id']\n",
    "\n",
    "response = requests.get(f'{base_url}/ai/stream?channel={channel}', headers={'Accept': 'text/event-stream'}, stream=True)  # or with_requests(url, headers)\n",
    "client = sseclient.SSEClient(response)\n",
    "for event in client.events():\n",
    "    pprint.pprint(event.data)\n",
    "    break"
   ]
  }
 ],
 "metadata": {
  "kernelspec": {
   "display_name": "dgfip_def",
   "language": "python",
   "name": "python3"
  },
  "language_info": {
   "codemirror_mode": {
    "name": "ipython",
    "version": 3
   },
   "file_extension": ".py",
   "mimetype": "text/x-python",
   "name": "python",
   "nbconvert_exporter": "python",
   "pygments_lexer": "ipython3",
   "version": "3.11.5"
  }
 },
 "nbformat": 4,
 "nbformat_minor": 2
}
